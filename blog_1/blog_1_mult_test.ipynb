{
 "cells": [
  {
   "cell_type": "code",
   "execution_count": 3,
   "metadata": {},
   "outputs": [],
   "source": [
    "import boto3\n",
    "import json\n",
    "import time\n",
    "\n",
    "# Set up the Amazon Bedrock client\n",
    "bedrock_client = boto3.client(\n",
    "    service_name=\"bedrock-runtime\",\n",
    "    region_name=\"us-east-1\"\n",
    ")\n",
    "\n",
    "# Prepare the input prompt\n",
    "prompts =  [ \"Hello, how are you?\", \n",
    "           \"Who was the 16th President of the United States, and what were his major achievements?\", \n",
    "           \"Summarize the following passage: The Industrial Revolution began in Great Britain in the late 18th century and spread to other parts of the world. It brought about significant changes in agriculture, manufacturing, mining, and transportation, which had a profound impact on the social, economic, and cultural conditions of the times.\",\n",
    "           \"Analyze the sentiment of this text: 'I absolutely love this new phone! It's so fast and the camera quality is amazing. The battery life could be better, though.\", \n",
    "           \"Write a short story about a dragon who learns to live peacefully with humans.\"\n",
    "           ]\n",
    "\n",
    "expected_outputs = [ \"Hi there! I'm fantastic, thanks for asking! How are you doing?\", \n",
    "                    \"In a land where dragons and humans were once bitter enemies, there lived a wise dragon named Drako. Tired of the endless conflicts, Drako decided to make peace. He approached the human king and proposed an alliance. After much skepticism, the king agreed. Drako and the humans worked together to rebuild their world, learning from each other. Through shared hardships and joys, they forged a bond that transformed their land into a place of harmony and mutual respect.\", \n",
    "                    \"The overall sentiment is positive, highlighting excitement about the phone's speed and camera quality, with a minor negative remark about the battery life.\", \n",
    "                    \"The Industrial Revolution, starting in late 18th century Britain, revolutionized agriculture, manufacturing, mining, and transportation, significantly affecting social, economic, and cultural conditions globally.\", \n",
    "                    \"Abraham Lincoln was the 16th President of the United States. His major achievements include issuing the Emancipation Proclamation, which led to the abolition of slavery, and leading the country through the Civil War.\"\n",
    "                    ]\n",
    "no = 1\n",
    "nova_time, mistral_time, claude_time = [], [], []\n",
    "nova_outputs, mistral_outputs, claude_outputs = [], [], []"
   ]
  },
  {
   "cell_type": "code",
   "execution_count": 5,
   "metadata": {},
   "outputs": [
    {
     "name": "stdout",
     "output_type": "stream",
     "text": [
      "Response from Nova for prompt 1: Hello! I'm doing well, thank you for asking. How can I assist you today? If you have any questions or need support with something, feel free to let me know.\n",
      "Response from Mistral for prompt 1:  I hope this message finds you well.\n",
      "\n",
      "I wanted to reach out and share some exciting news with you. I recently had the opportunity to collaborate with a team of talented individuals on a project that I believe will make a significant impact on the world.\n",
      "\n",
      "The project is called \"Project Green,\" and it's a global initiative aimed at reducing plastic waste and promoting sustainable living. Our goal is to create a platform that connects individuals, businesses, and governments to take action against plastic pollution and support eco-friendly solutions.\n",
      "\n",
      "As part of the project, we're launching a website that will serve as a hub for resources, inspiration, and collaboration. The site will feature educational content, tools for reducing plastic use, and a directory of eco-friendly businesses and organizations.\n",
      "\n",
      "I'm thrilled to be a part of this project, and I believe it has the potential to make a real difference in the world. I wanted to share this news with you because I know that you care deeply about the environment and sustainability, and I believe that you'll find value in the resources and connections that Project Green will provide.\n",
      "\n",
      "I encourage you to check out the Project Green website when it launches and sign up for updates to stay informed about upcoming events, initiatives, and opportunities to get involved. Together, we can make a difference and create a more sustainable future for ourselves and future generations.\n",
      "\n",
      "Thank you for taking the time to read this message. I appreciate your support and look forward to working with you to make a positive impact on the world.\n",
      "\n",
      "Best regards,\n",
      "\n",
      "[Your Name]\n",
      "Project Green Team Member.\n",
      "Response from Claude for prompt 1: Hello! As an AI language model, I don't have personal experiences or feelings, but I'm operating properly and ready to assist you with any questions or tasks you may have. How can I help you today?\n",
      "Response from Nova for prompt 2: The 16th President of the United States was Abraham Lincoln, who served from March 4, 1861, until his assassination on April 15, 1865. His major achievements include:\n",
      "\n",
      "1. **Preservation of the Union**: Lincoln is most renowned for leading the nation through the Civil War, ultimately preserving the United States as a unified country. His commitment to the Union was pivotal in preventing the secession of Southern states.\n",
      "\n",
      "2. **Emancipation Proclamation**: On January 1, 1863, Lincoln issued the Emancipation Proclamation, which declared the freedom of all enslaved people in Confederate-held territory. This pivotal action redefined the purpose of the war and paved the way for the abolition of slavery.\n",
      "\n",
      "3. **13th Amendment**: Lincoln's efforts contributed to the passage of the 13th Amendment in December 1865, which abolished slavery throughout the United States.\n",
      "\n",
      "4. **Gettysburg Address**: In November 1863, Lincoln delivered the Gettysburg Address, a speech that rededicated the nation to the principles of human equality and democracy. It has become one of the most famous speeches in American history.\n",
      "\n",
      "5. **Economic Policies**: Lincoln's administration implemented policies that promoted economic growth, including the Homestead Act of 1862, which provided land to settlers, and the establishment of the first transcontinental railroad with the Pacific Railway Act of 1862.\n",
      "\n",
      "6. **Banking and Currency Reforms**: Lincoln's administration introduced the National Banking Acts (1863 and 1864), which established a system of national banks and a stable national currency, which helped finance the war effort.\n",
      "\n",
      "Lincoln's leadership and policies had a lasting impact on the United States, shaping its future trajectory and laying the groundwork for civil rights advancements.\n",
      "Response from Mistral for prompt 2: \n",
      "\n",
      "The 16th President of the United States was Abraham Lincoln (1809-1865). He served from March 1861 until his assassination in April 1865. Lincoln is best known for leading the country through its greatest internal crisis, the American Civil War, which lasted from 1861 to 1865. His major achievements during this time include:\n",
      "\n",
      "1. Preserving the Union: Lincoln's primary goal was to preserve the Union and prevent the secession of the southern states. He issued the Emancipation Proclamation in 1863, which declared slaves in Confederate territory to be free. This not only helped to weaken the Confederacy's labor force but also made the abolition of slavery a war goal.\n",
      "\n",
      "2. Ending slavery: Lincoln's Emancipation Proclamation did not end slavery in the entire country, but it set the stage for the eventual abolition of slavery. The 13th Amendment, which was passed by Congress in January 1865 and ratified in December 1865, abolished slavery throughout the United States.\n",
      "\n",
      "3. Reconstruction: After the Civil War, Lincoln began the process of Reconstruction, which aimed to rebuild the southern states and reintegrate them into the Union. He issued the Proclamation of Amnesty and Reconstruction in December 1863, which offered pardons to Confederate soldiers and officials who took an oath of loyalty to the United States.\n",
      "\n",
      "4. Passage of the Homestead Act: In May 1862, Lincoln signed the Homestead Act, which offered 160 acres of public land to any adult citizen or intending citizen who would settle on it, build a dwelling, and farm it for five years. This helped to encourage westward expansion and settlement.\n",
      "\n",
      "5. Passage of the Morrill Land-Grant Acts: In July 1862, Lincoln signed the Morrill Land-Grant Acts, which provided federal land to states to establish colleges that would focus on agriculture and mechanical arts. This helped to promote education and technological advancement in the United States.\n",
      "\n",
      "6. Delivering the Gettysburg Address: In November 1863, Lincoln delivered the Gettysburg Address at the dedication of the Soldiers' National Cemetery in Gettysburg, Pennsylvania. This speech helped to redefine the meaning of the Civil War and its purpose, and it is considered one of the greatest speeches in American history.\n",
      "Response from Claude for prompt 2: The 16th President of the United States was Abraham Lincoln. He served from 1861 until his assassination in 1865. Here are some of his major achievements:\n",
      "\n",
      "- Led the United States through the Civil War (1861-1865) and worked to preserve the Union by defeating the secessionist Confederate states.\n",
      "\n",
      "- Issued the Emancipation Proclamation in 1863, declaring all enslaved people in Confederate-held areas to be free and helping pave the way for the abolition of slavery.\n",
      "\n",
      "- Delivered some of the most famous speeches in U.S. history, including the Gettysburg Address in 1863, which became an iconic statement of human equality and national purpose.\n",
      "\n",
      "- Appointed the first African American diplomat - Ebenezer Bassett as U.S. Minister to Haiti in 1869.\n",
      "\n",
      "- Supported the idea of giving some freedmen the right to vote through his Reconstruction policies after the Civil War.\n",
      "\n",
      "- Laid the groundwork for the 13th Amendment to permanently abolish slavery, though he did not live to see it ratified in 1865.\n",
      "\n",
      "Lincoln is widely regarded as one of the greatest and most influential presidents in American history for his moral leadership during the Civil War and his historical role in preserving the United States as a unified nation.\n",
      "Response from Nova for prompt 3: The Industrial Revolution originated in Great Britain during the late 18th century and subsequently influenced global regions. This period marked major advancements in agriculture, manufacturing, mining, and transportation, leading to substantial transformations in social, economic, and cultural landscapes.\n",
      "Response from Mistral for prompt 3:  The Agricultural Revolution, which preceded the Industrial Revolution, introduced new farming techniques and labor-saving machinery that increased agricultural productivity and led to the growth of a larger, more urban population. The Industrial Revolution itself was characterized by the widespread use of power-driven machinery, the growth of factories, and the development of new transportation systems. These innovations led to increased productivity, lower costs, and greater efficiency, which in turn fueled economic growth and industrialization. The social and cultural consequences of the Industrial Revolution were far-reaching, including the emergence of a new working class, the growth of cities, and the spread of literacy and education. Overall, the Industrial Revolution marked a turning point in human history, paving the way for modern industrial society and shaping the course of economic and social development for centuries to come.\n",
      "\n",
      "The Industrial Revolution began in Great Britain in the late 18th century and brought about significant changes in agriculture, manufacturing, mining, and transportation. The Agricultural Revolution preceded it and introduced new farming techniques and labor-saving machinery, increasing agricultural productivity and leading to a larger, urban population. The Industrial Revolution was characterized by the use of power-driven machinery, the growth of factories, and the development of new transportation systems, leading to increased productivity, lower costs, and greater efficiency. The social and cultural consequences included the emergence of a new working class, the growth of cities, and the spread of literacy and education. The Industrial Revolution marked a turning point in human history, shaping the course of economic and social development for centuries to come.\n",
      "Response from Claude for prompt 3: Here's a summary of the key points from the passage:\n",
      "\n",
      "The Industrial Revolution originated in Great Britain in the late 1700s and later spread to other regions. It marked a major transformation in several key sectors, including agriculture, manufacturing, mining, and transportation. The changes brought about by industrialization had far-reaching effects, dramatically altering social, economic, and cultural aspects of society during that era. The Industrial Revolution represented a pivotal shift towards modernization and laid the foundations for many aspects of the contemporary world.\n",
      "Response from Nova for prompt 4: The sentiment of the text can be considered generally positive, with a minor negative aspect. Here’s a breakdown of the sentiment analysis:\n",
      "\n",
      "1. **Positive Sentiment:**\n",
      "   - \"I absolutely love this new phone!\": The use of \"absolutely love\" conveys strong positive feelings.\n",
      "   - \"It's so fast\": The word \"fast\" indicates a positive attribute.\n",
      "   - \"the camera quality is amazing\": The word \"amazing\" reinforces a strong positive sentiment about the camera quality.\n",
      "\n",
      "2. **Minor Negative Sentiment:**\n",
      "   - \"The battery life could be better, though.\": The phrase \"could be better\" suggests a slight dissatisfaction with the battery life.\n",
      "\n",
      "Overall, the positive elements significantly outweigh the minor negative comment, leading to an overall positive sentiment in the text.\n",
      "Response from Mistral for prompt 4:  Overall, I'm really happy with my purchase.'\n",
      "\n",
      "The sentiment of the text is positive. The person expresses their love for the new phone and mentions specific features they enjoy, such as its speed and camera quality. However, they also acknowledge a drawback, which is the battery life. Despite this, they still express overall happiness with their purchase.\n",
      "Response from Claude for prompt 4: Here's my analysis of the sentiment in that text:\n",
      "\n",
      "Overall Sentiment: Positive\n",
      "\n",
      "The text conveys an overwhelmingly positive sentiment about a new phone. Some key indicators:\n",
      "\n",
      "- \"I absolutely love this new phone!\" - This is an extremely positive statement expressing strong affection for the product.\n",
      "\n",
      "- \"It's so fast\" and \"the camera quality is amazing\" are highlighting positives aspects and features that the writer really likes.\n",
      "\n",
      "However, there is one slightly negative point made:\n",
      "\n",
      "- \"The battery life could be better, though\" expresses a negative or criticism about the battery life not meeting expectations.\n",
      "\n",
      "But the one negative critique is relatively minor compared to the very positive descriptors like \"absolutely love\", \"so fast\", and \"amazing\" used for other aspects of the phone.\n",
      "\n",
      "In summary, while there is a slight negative regarding the battery, the overall sentiment is decidedly positive and enthusiastic about this new phone product.\n",
      "Response from Nova for prompt 5: Once upon a time, in a land where mountains kissed the sky and rivers shimmered like liquid silver, there lived a dragon named Eldra. Unlike the fearsome dragons of old tales, Eldra was gentle, her scales reflecting the colors of the sunset. However, the humans of the nearby village saw her as a threat and often fled at her sight.\n",
      "\n",
      "One crisp morning, a young girl named Lila ventured into the woods, curious and unafraid. She had heard stories of the dragon but believed there must be more to the legend. When she spotted Eldra basking on a sunlit rock, Lila approached with caution. \n",
      "\n",
      "\"Why do you fear me?\" Eldra's voice rumbled like distant thunder, surprising Lila.\n",
      "\n",
      "\"I don't fear you,\" Lila replied, her voice steady. \"I want to understand you.\"\n",
      "\n",
      "Eldra, intrigued, listened as Lila spoke of the village, their way of life, and their fears. In return, she shared her own story—of longing for companionship and the pain of isolation.\n",
      "\n",
      "Days turned into weeks, and Lila visited Eldra often. Together, they explored the forest, learning from each other. The villagers, witnessing the bond between dragon and girl, began to see Eldra in a new light.\n",
      "\n",
      "One day, a storm threatened the village, its winds fierce and unforgiving. The villagers turned to Eldra for help, not in fear, but in hope. With Lila by her side, Eldra soared above the storm, guiding it away from the village. \n",
      "\n",
      "The villagers watched in awe as the dragon saved them, and a new understanding blossomed. They realized that Eldra was not a monster, but a protector.\n",
      "\n",
      "From that day on, humans and dragon coexisted in harmony. Eldra became a guardian of the forest, and Lila, the bridge between two worlds. \n",
      "\n",
      "In the end, the dragon learned that peace was not just the absence of conflict, but the presence of understanding.\n",
      "Response from Mistral for prompt 5: \n",
      "\n",
      "Title: The Dragon's Embrace\n",
      "\n",
      "In the heart of the enchanted forest, where the sun kissed the leaves and the moon whispered tales to the stars, lived a magnificent dragon named Eldrida. Eldrida was a creature of immense beauty and power, with scales that shimmered like emeralds, wings that spanned the length of a football field, and eyes that held the wisdom of a thousand years.\n",
      "\n",
      "Eldrida was a solitary being, content with her life in the forest, away from the prying eyes of humans. But one fateful day, as she soared above the forest canopy, she saw something that would change her life forever. A small village nestled at the edge of the forest, its people going about their daily lives, oblivious to the presence of a dragon in their midst.\n",
      "\n",
      "Curiosity piqued, Eldrida descended upon the village, intending to observe the humans from a distance. But as she watched them, she was struck by their kindness and warmth towards each other. They shared their food, their laughter, and their stories, and Eldrida felt a strange longing to be a part of their community.\n",
      "\n",
      "However, she knew that her very presence would instill fear in the hearts of the villagers. So, she decided to approach them in a way that would not reveal her true identity. Under the cover of darkness, she began to leave gifts for the villagers - a basket of ripe fruits, a stack of firewood, a loaf of freshly baked bread. The villagers were puzzled but grateful for the mysterious benefactor.\n",
      "\n",
      "As the days passed, Eldrida continued to leave gifts for the villagers, and they began to refer to the benefactor as \"The Forest Guardian.\" But Eldrida yearned for more than just anonymity. She wanted to live among the humans, to learn from them, and to share her knowledge and wisdom.\n",
      "\n",
      "One day, as Eldrida was leaving a gift of honey for the villagers, she was spotted by a young girl named Elara. Elara was not afraid of the dragon, but rather, she was filled with awe and wonder. She approached Eldrida, and the two struck up a conversation. Eldrida was amazed by Elara's curiosity and intelligence, and she felt a deep connection with the girl.\n",
      "\n",
      "Word of Eldrida's encounter with Elara spread throughout the village, and soon, the other villagers came to meet the dragon. Eldrida was hesitant at first, but she soon realized that the villagers were not afraid of her, but rather, they were filled with awe and respect. They welcomed her into their community, and Eldrida began to teach them about the forest, the stars, and the magic that lay hidden in the world around them.\n",
      "\n",
      "In return, the villagers shared their knowledge and wisdom with Eldrida, and she learned about the human way of life. Together, they built a peaceful coexistence, with Eldrida protecting the village from harm and the villagers offering her love and acceptance.\n",
      "\n",
      "And so, Eldrida, the once solitary dragon, learned to live peacefully among the humans, finding joy and fulfillment in the bonds of friendship and community. The forest guardian became a cherished part of the village, and her legend lived on, inspiring generations to come.\n",
      "Response from Claude for prompt 5: Here is a short story about a dragon who learns to live peacefully with humans:\n",
      "\n",
      "Aralax the dragon soared high over the mountains, his massive scarlet wings casting a broad shadow over the lush forests below. For centuries, his kind had been feared by the humans who dwelt in the valleys and plains, raiding their villages for treasure and livestock. But Aralax was different. He was more curious than vicious, studying the human settlements from a safe distance, intrigued by their ways.\n",
      "\n",
      "One day, while perched on a rocky outcropping near a small human village, Aralax watched as a group of children played in a nearby meadow. Their joyful laughter and carefree antics stirred something deep within him. He realized in that moment that dragons and humans need not be mortal enemies – perhaps they could coexist peacefully.\n",
      "\n",
      "Over the weeks and months that followed, Aralax slowly overcame the mistrust and fear of the villagers. At first, they fled in terror whenever his colossal form was seen soaring overhead. But Aralax persisted, never harming a single human or animal. He would settle near the village, close enough to observe but never threatening.\n",
      "\n",
      "Eventually, even the bravest of village children began to cautiously approach the friendly dragon. Aralax delighted in their awed wonder, breathing small puffs of harmless colored smoke to send them into fits of giggles. The parents watched warily at first but gradually realized the dragon meant no harm.\n",
      "\n",
      "Soon, a unique bond formed between Aralax and the humans. He protected their village from other ferocious beasts and shared his wisdom of the land and sky. In return, the humans welcomed the dragon's presence, offering gifts of food, handicrafts, and even dancing and singing for his amusement.\n",
      "\n",
      "Aralax's noble example inspired other dragons to make peace with humankind as well, and for the first time in history, the two species lived side-by-side, sharing the bounties of the world. Where once there was fear and bloodshed, now there was laughter, celebration, and friendship.\n"
     ]
    }
   ],
   "source": [
    "for prompt in prompts:   \n",
    "\n",
    "    model_id_nova = \"amazon.nova-lite-v1:0\"\n",
    "    body_nova_lite = { \n",
    "        \"inferenceConfig\": {\n",
    "        \"max_new_tokens\": 1024\n",
    "        },\n",
    "        \"messages\": [\n",
    "        {\n",
    "            \"role\": \"user\",\n",
    "            \"content\": [\n",
    "            {\n",
    "                \"text\": prompt\n",
    "            }\n",
    "            ]\n",
    "        }\n",
    "        ]\n",
    "    }\n",
    "\n",
    "    model_id_mistral = \"mistral.mistral-7b-instruct-v0:2\"\n",
    "    body_mistral7B ={\n",
    "        \"prompt\":prompt, \n",
    "        \"max_tokens\":1024, \n",
    "        \"temperature\":0.5, \n",
    "        \"top_p\":0.9, \n",
    "        \"top_k\":50\n",
    "    }\n",
    "\n",
    "    model_id_claude = \"anthropic.claude-3-sonnet-20240229-v1:0\"\n",
    "    body_claude_3_5_sonnet = {\n",
    "        \"anthropic_version\": \"bedrock-2023-05-31\",\n",
    "        \"max_tokens\": 1024,\n",
    "        \"messages\": [\n",
    "            {\n",
    "            \"role\": \"user\",\n",
    "            \"content\":  prompt\n",
    "            }\n",
    "            ]\n",
    "        }\n",
    "    \n",
    "    start_time = time.time()\n",
    "    response_nova = bedrock_client.invoke_model(\n",
    "        modelId=model_id_nova,\n",
    "        body=json.dumps(body_nova_lite)\n",
    "    )\n",
    "    nova_time.append(time.time() - start_time)\n",
    "    result = json.loads(response_nova[\"body\"].read())\n",
    "    generated_text_nova = \"\".join([output[\"text\"] for output in result[\"output\"][\"message\"][\"content\"]])\n",
    "    nova_outputs.append(generated_text_nova)\n",
    "    print(f\"Response from Nova for prompt {no}: {generated_text_nova}\")\n",
    "\n",
    "\n",
    "    start_time = time.time()\n",
    "    response_mistral = bedrock_client.invoke_model(\n",
    "        modelId=model_id_mistral,\n",
    "        body=json.dumps(body_mistral7B)\n",
    "    )\n",
    "    mistral_time.append(time.time()-start_time)\n",
    "    result = json.loads(response_mistral[\"body\"].read())\n",
    "    generated_text_mistral = \"\".join([output[\"text\"] for output in result[\"outputs\"]])\n",
    "    mistral_outputs.append(generated_text_mistral)\n",
    "    print(f\"Response from Mistral for prompt {no}: {generated_text_mistral}\")\n",
    "\n",
    "\n",
    "    start_time = time.time()\n",
    "    response_claude = bedrock_client.invoke_model(\n",
    "        modelId=model_id_claude,\n",
    "        body=json.dumps(body_claude_3_5_sonnet)\n",
    "    )\n",
    "    claude_time.append(time.time() - start_time)\n",
    "    result = json.loads(response_claude[\"body\"].read())\n",
    "    generated_text_claude = \"\".join([output[\"text\"] for output in result[\"content\"]])\n",
    "    claude_outputs.append(generated_text_claude)\n",
    "    print(f\"Response from Claude for prompt {no}: {generated_text_claude}\")\n",
    "\n",
    "    no+=1"
   ]
  },
  {
   "cell_type": "code",
   "execution_count": 6,
   "metadata": {},
   "outputs": [
    {
     "data": {
      "text/plain": [
       "[\"Hello! I'm doing well, thank you for asking. How can I assist you today? If you have any questions or need support with something, feel free to let me know.\",\n",
       " \"The 16th President of the United States was Abraham Lincoln, who served from March 4, 1861, until his assassination on April 15, 1865. His major achievements include:\\n\\n1. **Preservation of the Union**: Lincoln is most renowned for leading the nation through the Civil War, ultimately preserving the United States as a unified country. His commitment to the Union was pivotal in preventing the secession of Southern states.\\n\\n2. **Emancipation Proclamation**: On January 1, 1863, Lincoln issued the Emancipation Proclamation, which declared the freedom of all enslaved people in Confederate-held territory. This pivotal action redefined the purpose of the war and paved the way for the abolition of slavery.\\n\\n3. **13th Amendment**: Lincoln's efforts contributed to the passage of the 13th Amendment in December 1865, which abolished slavery throughout the United States.\\n\\n4. **Gettysburg Address**: In November 1863, Lincoln delivered the Gettysburg Address, a speech that rededicated the nation to the principles of human equality and democracy. It has become one of the most famous speeches in American history.\\n\\n5. **Economic Policies**: Lincoln's administration implemented policies that promoted economic growth, including the Homestead Act of 1862, which provided land to settlers, and the establishment of the first transcontinental railroad with the Pacific Railway Act of 1862.\\n\\n6. **Banking and Currency Reforms**: Lincoln's administration introduced the National Banking Acts (1863 and 1864), which established a system of national banks and a stable national currency, which helped finance the war effort.\\n\\nLincoln's leadership and policies had a lasting impact on the United States, shaping its future trajectory and laying the groundwork for civil rights advancements.\",\n",
       " 'The Industrial Revolution originated in Great Britain during the late 18th century and subsequently influenced global regions. This period marked major advancements in agriculture, manufacturing, mining, and transportation, leading to substantial transformations in social, economic, and cultural landscapes.',\n",
       " 'The sentiment of the text can be considered generally positive, with a minor negative aspect. Here’s a breakdown of the sentiment analysis:\\n\\n1. **Positive Sentiment:**\\n   - \"I absolutely love this new phone!\": The use of \"absolutely love\" conveys strong positive feelings.\\n   - \"It\\'s so fast\": The word \"fast\" indicates a positive attribute.\\n   - \"the camera quality is amazing\": The word \"amazing\" reinforces a strong positive sentiment about the camera quality.\\n\\n2. **Minor Negative Sentiment:**\\n   - \"The battery life could be better, though.\": The phrase \"could be better\" suggests a slight dissatisfaction with the battery life.\\n\\nOverall, the positive elements significantly outweigh the minor negative comment, leading to an overall positive sentiment in the text.',\n",
       " 'Once upon a time, in a land where mountains kissed the sky and rivers shimmered like liquid silver, there lived a dragon named Eldra. Unlike the fearsome dragons of old tales, Eldra was gentle, her scales reflecting the colors of the sunset. However, the humans of the nearby village saw her as a threat and often fled at her sight.\\n\\nOne crisp morning, a young girl named Lila ventured into the woods, curious and unafraid. She had heard stories of the dragon but believed there must be more to the legend. When she spotted Eldra basking on a sunlit rock, Lila approached with caution. \\n\\n\"Why do you fear me?\" Eldra\\'s voice rumbled like distant thunder, surprising Lila.\\n\\n\"I don\\'t fear you,\" Lila replied, her voice steady. \"I want to understand you.\"\\n\\nEldra, intrigued, listened as Lila spoke of the village, their way of life, and their fears. In return, she shared her own story—of longing for companionship and the pain of isolation.\\n\\nDays turned into weeks, and Lila visited Eldra often. Together, they explored the forest, learning from each other. The villagers, witnessing the bond between dragon and girl, began to see Eldra in a new light.\\n\\nOne day, a storm threatened the village, its winds fierce and unforgiving. The villagers turned to Eldra for help, not in fear, but in hope. With Lila by her side, Eldra soared above the storm, guiding it away from the village. \\n\\nThe villagers watched in awe as the dragon saved them, and a new understanding blossomed. They realized that Eldra was not a monster, but a protector.\\n\\nFrom that day on, humans and dragon coexisted in harmony. Eldra became a guardian of the forest, and Lila, the bridge between two worlds. \\n\\nIn the end, the dragon learned that peace was not just the absence of conflict, but the presence of understanding.']"
      ]
     },
     "execution_count": 6,
     "metadata": {},
     "output_type": "execute_result"
    }
   ],
   "source": [
    "nova_outputs"
   ]
  },
  {
   "cell_type": "code",
   "execution_count": 7,
   "metadata": {},
   "outputs": [
    {
     "data": {
      "text/plain": [
       "[' I hope this message finds you well.\\n\\nI wanted to reach out and share some exciting news with you. I recently had the opportunity to collaborate with a team of talented individuals on a project that I believe will make a significant impact on the world.\\n\\nThe project is called \"Project Green,\" and it\\'s a global initiative aimed at reducing plastic waste and promoting sustainable living. Our goal is to create a platform that connects individuals, businesses, and governments to take action against plastic pollution and support eco-friendly solutions.\\n\\nAs part of the project, we\\'re launching a website that will serve as a hub for resources, inspiration, and collaboration. The site will feature educational content, tools for reducing plastic use, and a directory of eco-friendly businesses and organizations.\\n\\nI\\'m thrilled to be a part of this project, and I believe it has the potential to make a real difference in the world. I wanted to share this news with you because I know that you care deeply about the environment and sustainability, and I believe that you\\'ll find value in the resources and connections that Project Green will provide.\\n\\nI encourage you to check out the Project Green website when it launches and sign up for updates to stay informed about upcoming events, initiatives, and opportunities to get involved. Together, we can make a difference and create a more sustainable future for ourselves and future generations.\\n\\nThank you for taking the time to read this message. I appreciate your support and look forward to working with you to make a positive impact on the world.\\n\\nBest regards,\\n\\n[Your Name]\\nProject Green Team Member.',\n",
       " \"\\n\\nThe 16th President of the United States was Abraham Lincoln (1809-1865). He served from March 1861 until his assassination in April 1865. Lincoln is best known for leading the country through its greatest internal crisis, the American Civil War, which lasted from 1861 to 1865. His major achievements during this time include:\\n\\n1. Preserving the Union: Lincoln's primary goal was to preserve the Union and prevent the secession of the southern states. He issued the Emancipation Proclamation in 1863, which declared slaves in Confederate territory to be free. This not only helped to weaken the Confederacy's labor force but also made the abolition of slavery a war goal.\\n\\n2. Ending slavery: Lincoln's Emancipation Proclamation did not end slavery in the entire country, but it set the stage for the eventual abolition of slavery. The 13th Amendment, which was passed by Congress in January 1865 and ratified in December 1865, abolished slavery throughout the United States.\\n\\n3. Reconstruction: After the Civil War, Lincoln began the process of Reconstruction, which aimed to rebuild the southern states and reintegrate them into the Union. He issued the Proclamation of Amnesty and Reconstruction in December 1863, which offered pardons to Confederate soldiers and officials who took an oath of loyalty to the United States.\\n\\n4. Passage of the Homestead Act: In May 1862, Lincoln signed the Homestead Act, which offered 160 acres of public land to any adult citizen or intending citizen who would settle on it, build a dwelling, and farm it for five years. This helped to encourage westward expansion and settlement.\\n\\n5. Passage of the Morrill Land-Grant Acts: In July 1862, Lincoln signed the Morrill Land-Grant Acts, which provided federal land to states to establish colleges that would focus on agriculture and mechanical arts. This helped to promote education and technological advancement in the United States.\\n\\n6. Delivering the Gettysburg Address: In November 1863, Lincoln delivered the Gettysburg Address at the dedication of the Soldiers' National Cemetery in Gettysburg, Pennsylvania. This speech helped to redefine the meaning of the Civil War and its purpose, and it is considered one of the greatest speeches in American history.\",\n",
       " ' The Agricultural Revolution, which preceded the Industrial Revolution, introduced new farming techniques and labor-saving machinery that increased agricultural productivity and led to the growth of a larger, more urban population. The Industrial Revolution itself was characterized by the widespread use of power-driven machinery, the growth of factories, and the development of new transportation systems. These innovations led to increased productivity, lower costs, and greater efficiency, which in turn fueled economic growth and industrialization. The social and cultural consequences of the Industrial Revolution were far-reaching, including the emergence of a new working class, the growth of cities, and the spread of literacy and education. Overall, the Industrial Revolution marked a turning point in human history, paving the way for modern industrial society and shaping the course of economic and social development for centuries to come.\\n\\nThe Industrial Revolution began in Great Britain in the late 18th century and brought about significant changes in agriculture, manufacturing, mining, and transportation. The Agricultural Revolution preceded it and introduced new farming techniques and labor-saving machinery, increasing agricultural productivity and leading to a larger, urban population. The Industrial Revolution was characterized by the use of power-driven machinery, the growth of factories, and the development of new transportation systems, leading to increased productivity, lower costs, and greater efficiency. The social and cultural consequences included the emergence of a new working class, the growth of cities, and the spread of literacy and education. The Industrial Revolution marked a turning point in human history, shaping the course of economic and social development for centuries to come.',\n",
       " \" Overall, I'm really happy with my purchase.'\\n\\nThe sentiment of the text is positive. The person expresses their love for the new phone and mentions specific features they enjoy, such as its speed and camera quality. However, they also acknowledge a drawback, which is the battery life. Despite this, they still express overall happiness with their purchase.\",\n",
       " '\\n\\nTitle: The Dragon\\'s Embrace\\n\\nIn the heart of the enchanted forest, where the sun kissed the leaves and the moon whispered tales to the stars, lived a magnificent dragon named Eldrida. Eldrida was a creature of immense beauty and power, with scales that shimmered like emeralds, wings that spanned the length of a football field, and eyes that held the wisdom of a thousand years.\\n\\nEldrida was a solitary being, content with her life in the forest, away from the prying eyes of humans. But one fateful day, as she soared above the forest canopy, she saw something that would change her life forever. A small village nestled at the edge of the forest, its people going about their daily lives, oblivious to the presence of a dragon in their midst.\\n\\nCuriosity piqued, Eldrida descended upon the village, intending to observe the humans from a distance. But as she watched them, she was struck by their kindness and warmth towards each other. They shared their food, their laughter, and their stories, and Eldrida felt a strange longing to be a part of their community.\\n\\nHowever, she knew that her very presence would instill fear in the hearts of the villagers. So, she decided to approach them in a way that would not reveal her true identity. Under the cover of darkness, she began to leave gifts for the villagers - a basket of ripe fruits, a stack of firewood, a loaf of freshly baked bread. The villagers were puzzled but grateful for the mysterious benefactor.\\n\\nAs the days passed, Eldrida continued to leave gifts for the villagers, and they began to refer to the benefactor as \"The Forest Guardian.\" But Eldrida yearned for more than just anonymity. She wanted to live among the humans, to learn from them, and to share her knowledge and wisdom.\\n\\nOne day, as Eldrida was leaving a gift of honey for the villagers, she was spotted by a young girl named Elara. Elara was not afraid of the dragon, but rather, she was filled with awe and wonder. She approached Eldrida, and the two struck up a conversation. Eldrida was amazed by Elara\\'s curiosity and intelligence, and she felt a deep connection with the girl.\\n\\nWord of Eldrida\\'s encounter with Elara spread throughout the village, and soon, the other villagers came to meet the dragon. Eldrida was hesitant at first, but she soon realized that the villagers were not afraid of her, but rather, they were filled with awe and respect. They welcomed her into their community, and Eldrida began to teach them about the forest, the stars, and the magic that lay hidden in the world around them.\\n\\nIn return, the villagers shared their knowledge and wisdom with Eldrida, and she learned about the human way of life. Together, they built a peaceful coexistence, with Eldrida protecting the village from harm and the villagers offering her love and acceptance.\\n\\nAnd so, Eldrida, the once solitary dragon, learned to live peacefully among the humans, finding joy and fulfillment in the bonds of friendship and community. The forest guardian became a cherished part of the village, and her legend lived on, inspiring generations to come.']"
      ]
     },
     "execution_count": 7,
     "metadata": {},
     "output_type": "execute_result"
    }
   ],
   "source": [
    "mistral_outputs"
   ]
  },
  {
   "cell_type": "code",
   "execution_count": 8,
   "metadata": {},
   "outputs": [
    {
     "data": {
      "text/plain": [
       "[\"Hello! As an AI language model, I don't have personal experiences or feelings, but I'm operating properly and ready to assist you with any questions or tasks you may have. How can I help you today?\",\n",
       " 'The 16th President of the United States was Abraham Lincoln. He served from 1861 until his assassination in 1865. Here are some of his major achievements:\\n\\n- Led the United States through the Civil War (1861-1865) and worked to preserve the Union by defeating the secessionist Confederate states.\\n\\n- Issued the Emancipation Proclamation in 1863, declaring all enslaved people in Confederate-held areas to be free and helping pave the way for the abolition of slavery.\\n\\n- Delivered some of the most famous speeches in U.S. history, including the Gettysburg Address in 1863, which became an iconic statement of human equality and national purpose.\\n\\n- Appointed the first African American diplomat - Ebenezer Bassett as U.S. Minister to Haiti in 1869.\\n\\n- Supported the idea of giving some freedmen the right to vote through his Reconstruction policies after the Civil War.\\n\\n- Laid the groundwork for the 13th Amendment to permanently abolish slavery, though he did not live to see it ratified in 1865.\\n\\nLincoln is widely regarded as one of the greatest and most influential presidents in American history for his moral leadership during the Civil War and his historical role in preserving the United States as a unified nation.',\n",
       " \"Here's a summary of the key points from the passage:\\n\\nThe Industrial Revolution originated in Great Britain in the late 1700s and later spread to other regions. It marked a major transformation in several key sectors, including agriculture, manufacturing, mining, and transportation. The changes brought about by industrialization had far-reaching effects, dramatically altering social, economic, and cultural aspects of society during that era. The Industrial Revolution represented a pivotal shift towards modernization and laid the foundations for many aspects of the contemporary world.\",\n",
       " 'Here\\'s my analysis of the sentiment in that text:\\n\\nOverall Sentiment: Positive\\n\\nThe text conveys an overwhelmingly positive sentiment about a new phone. Some key indicators:\\n\\n- \"I absolutely love this new phone!\" - This is an extremely positive statement expressing strong affection for the product.\\n\\n- \"It\\'s so fast\" and \"the camera quality is amazing\" are highlighting positives aspects and features that the writer really likes.\\n\\nHowever, there is one slightly negative point made:\\n\\n- \"The battery life could be better, though\" expresses a negative or criticism about the battery life not meeting expectations.\\n\\nBut the one negative critique is relatively minor compared to the very positive descriptors like \"absolutely love\", \"so fast\", and \"amazing\" used for other aspects of the phone.\\n\\nIn summary, while there is a slight negative regarding the battery, the overall sentiment is decidedly positive and enthusiastic about this new phone product.',\n",
       " \"Here is a short story about a dragon who learns to live peacefully with humans:\\n\\nAralax the dragon soared high over the mountains, his massive scarlet wings casting a broad shadow over the lush forests below. For centuries, his kind had been feared by the humans who dwelt in the valleys and plains, raiding their villages for treasure and livestock. But Aralax was different. He was more curious than vicious, studying the human settlements from a safe distance, intrigued by their ways.\\n\\nOne day, while perched on a rocky outcropping near a small human village, Aralax watched as a group of children played in a nearby meadow. Their joyful laughter and carefree antics stirred something deep within him. He realized in that moment that dragons and humans need not be mortal enemies – perhaps they could coexist peacefully.\\n\\nOver the weeks and months that followed, Aralax slowly overcame the mistrust and fear of the villagers. At first, they fled in terror whenever his colossal form was seen soaring overhead. But Aralax persisted, never harming a single human or animal. He would settle near the village, close enough to observe but never threatening.\\n\\nEventually, even the bravest of village children began to cautiously approach the friendly dragon. Aralax delighted in their awed wonder, breathing small puffs of harmless colored smoke to send them into fits of giggles. The parents watched warily at first but gradually realized the dragon meant no harm.\\n\\nSoon, a unique bond formed between Aralax and the humans. He protected their village from other ferocious beasts and shared his wisdom of the land and sky. In return, the humans welcomed the dragon's presence, offering gifts of food, handicrafts, and even dancing and singing for his amusement.\\n\\nAralax's noble example inspired other dragons to make peace with humankind as well, and for the first time in history, the two species lived side-by-side, sharing the bounties of the world. Where once there was fear and bloodshed, now there was laughter, celebration, and friendship.\"]"
      ]
     },
     "execution_count": 8,
     "metadata": {},
     "output_type": "execute_result"
    }
   ],
   "source": [
    "claude_outputs"
   ]
  },
  {
   "cell_type": "code",
   "execution_count": 10,
   "metadata": {},
   "outputs": [],
   "source": [
    "import numpy as np"
   ]
  },
  {
   "cell_type": "code",
   "execution_count": 15,
   "metadata": {},
   "outputs": [
    {
     "data": {
      "text/plain": [
       "([2.3753201961517334,\n",
       "  0.6699850559234619,\n",
       "  3.3138275146484375,\n",
       "  0.7230875492095947,\n",
       "  1.6528606414794922,\n",
       "  3.4123291969299316],\n",
       " [3.4854559898376465,\n",
       "  5.817439794540405,\n",
       "  3.4764199256896973,\n",
       "  1.0437486171722412,\n",
       "  7.62049674987793],\n",
       " [1.2189335823059082,\n",
       "  7.102784872055054,\n",
       "  3.6726112365722656,\n",
       "  5.25779914855957,\n",
       "  10.96356201171875])"
      ]
     },
     "execution_count": 15,
     "metadata": {},
     "output_type": "execute_result"
    }
   ],
   "source": [
    "nova_time, mistral_time, claude_time"
   ]
  },
  {
   "cell_type": "code",
   "execution_count": 14,
   "metadata": {},
   "outputs": [
    {
     "data": {
      "text/plain": [
       "(np.float64(2.0245683590571084),\n",
       " np.float64(4.288712215423584),\n",
       " np.float64(5.64313817024231))"
      ]
     },
     "execution_count": 14,
     "metadata": {},
     "output_type": "execute_result"
    }
   ],
   "source": [
    "np.mean(nova_time), np.mean(mistral_time), np.mean(claude_time)"
   ]
  }
 ],
 "metadata": {
  "kernelspec": {
   "display_name": "Python 3",
   "language": "python",
   "name": "python3"
  },
  "language_info": {
   "codemirror_mode": {
    "name": "ipython",
    "version": 3
   },
   "file_extension": ".py",
   "mimetype": "text/x-python",
   "name": "python",
   "nbconvert_exporter": "python",
   "pygments_lexer": "ipython3",
   "version": "3.13.1"
  }
 },
 "nbformat": 4,
 "nbformat_minor": 2
}
